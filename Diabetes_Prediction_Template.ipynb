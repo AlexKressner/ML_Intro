{
  "cells": [
    {
      "cell_type": "markdown",
      "metadata": {
        "id": "view-in-github",
        "colab_type": "text"
      },
      "source": [
        "<a href=\"https://colab.research.google.com/github/AlexKressner/ML_Intro/blob/main/Diabetes_Prediction_Template.ipynb\" target=\"_parent\"><img src=\"https://colab.research.google.com/assets/colab-badge.svg\" alt=\"Open In Colab\"/></a>"
      ]
    },
    {
      "cell_type": "markdown",
      "source": [
        "# 1 Machine Learning: Klassifikation, Beispiel Diabetes"
      ],
      "metadata": {
        "id": "TlEeS6BHfKV9"
      },
      "id": "TlEeS6BHfKV9"
    },
    {
      "cell_type": "markdown",
      "source": [
        "## 1.1 Daten aus Goolge-Drive importieren"
      ],
      "metadata": {
        "id": "fosefoRciSNO"
      },
      "id": "fosefoRciSNO"
    },
    {
      "cell_type": "code",
      "source": [
        "import matplotlib.pyplot as plt\n",
        "import pandas as pd\n",
        "import seaborn as sns"
      ],
      "metadata": {
        "id": "LGrl_jqcfXzd"
      },
      "id": "LGrl_jqcfXzd",
      "execution_count": null,
      "outputs": []
    },
    {
      "cell_type": "code",
      "source": [
        "! git clone https://github.com/AlexKressner/ML_Intro"
      ],
      "metadata": {
        "id": "syj7UTt5uEsF"
      },
      "id": "syj7UTt5uEsF",
      "execution_count": null,
      "outputs": []
    },
    {
      "cell_type": "code",
      "source": [
        "! ls ML_Intro/"
      ],
      "metadata": {
        "id": "UbcFvFbHuGjq"
      },
      "id": "UbcFvFbHuGjq",
      "execution_count": null,
      "outputs": []
    },
    {
      "cell_type": "code",
      "source": [
        "data = pd.read_csv(\"./ML_Intro/diabetes.txt\")"
      ],
      "metadata": {
        "id": "ZrQBfEMbc6Lu"
      },
      "id": "ZrQBfEMbc6Lu",
      "execution_count": null,
      "outputs": []
    },
    {
      "cell_type": "markdown",
      "source": [
        "## 1.2 Erster Überblick zum Datensatz"
      ],
      "metadata": {
        "id": "KkHlMAifQF9l"
      },
      "id": "KkHlMAifQF9l"
    },
    {
      "cell_type": "code",
      "source": [
        "# Kopfzeile der Daten\n",
        "data.head()"
      ],
      "metadata": {
        "id": "j6mUMYZ1hVXC"
      },
      "id": "j6mUMYZ1hVXC",
      "execution_count": null,
      "outputs": []
    },
    {
      "cell_type": "code",
      "source": [
        "# Größe des Datensatzes\n",
        "data.shape"
      ],
      "metadata": {
        "id": "qofiApAiQEuA"
      },
      "id": "qofiApAiQEuA",
      "execution_count": null,
      "outputs": []
    },
    {
      "cell_type": "code",
      "source": [
        "# Heatmap\n",
        "plt.figure(figsize=(10, 8))\n",
        "heatmap = sns.heatmap(data.corr(), annot=True, fmt=\".2f\", cmap='coolwarm', cbar=True)\n",
        "plt.title('Correlation of Features')\n",
        "plt.show()"
      ],
      "metadata": {
        "id": "LxFSA6bhd710"
      },
      "id": "LxFSA6bhd710",
      "execution_count": null,
      "outputs": []
    },
    {
      "cell_type": "markdown",
      "source": [
        "## 1.3 Training und Testen ML-Modell (Classifier)\n",
        "Basierend auf den Untersuchungsergebnissen und Personenmerkmalen soll vorhergesagt werden, ob eine Person Diabetes hat oder nicht! Verwenden Sie ein Klassifikationsmodell zur Vorhersage (z.B. Gradient Boosting Classifier). Bewerten Sie die Güte des Prognosemodell anhand der \"Accuracy\"!"
      ],
      "metadata": {
        "id": "F6l0bN2Di_at"
      },
      "id": "F6l0bN2Di_at"
    },
    {
      "cell_type": "code",
      "source": [
        "from sklearn.model_selection import train_test_split\n",
        "from sklearn.ensemble import GradientBoostingClassifier\n",
        "import sklearn.metrics"
      ],
      "metadata": {
        "id": "I_BQvKOFfzIa"
      },
      "id": "I_BQvKOFfzIa",
      "execution_count": null,
      "outputs": []
    },
    {
      "cell_type": "code",
      "source": [],
      "metadata": {
        "id": "jw9nsecciIA0"
      },
      "id": "jw9nsecciIA0",
      "execution_count": null,
      "outputs": []
    }
  ],
  "metadata": {
    "kernelspec": {
      "display_name": "Python 3 (ipykernel)",
      "language": "python",
      "name": "python3"
    },
    "language_info": {
      "codemirror_mode": {
        "name": "ipython",
        "version": 3
      },
      "file_extension": ".py",
      "mimetype": "text/x-python",
      "name": "python",
      "nbconvert_exporter": "python",
      "pygments_lexer": "ipython3",
      "version": "3.8.5"
    },
    "colab": {
      "provenance": [],
      "toc_visible": true,
      "include_colab_link": true
    }
  },
  "nbformat": 4,
  "nbformat_minor": 5
}