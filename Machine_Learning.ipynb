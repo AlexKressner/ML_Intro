{
  "cells": [
    {
      "cell_type": "markdown",
      "metadata": {
        "id": "view-in-github",
        "colab_type": "text"
      },
      "source": [
        "<a href=\"https://colab.research.google.com/github/AlexKressner/ML_Marketing/blob/main/Machine_Learning.ipynb\" target=\"_parent\"><img src=\"https://colab.research.google.com/assets/colab-badge.svg\" alt=\"Open In Colab\"/></a>"
      ]
    },
    {
      "cell_type": "markdown",
      "id": "64b0765e-bc90-46b8-8c66-0123b137bf19",
      "metadata": {
        "jp-MarkdownHeadingCollapsed": true,
        "tags": [],
        "id": "64b0765e-bc90-46b8-8c66-0123b137bf19"
      },
      "source": [
        "# Übersicht\n",
        "1. Kurze Einführung Python\n",
        "1. Eigenschaften von Python\n",
        "1. Kurzeinführung Colab Notebook\n",
        "1. Einfache Rechnungen\n",
        "1. Variablen\n",
        "1. Packages\n",
        "1. ML für Regressionsprobleme\n",
        "1. ML für Klassifikationsprobleme"
      ]
    },
    {
      "cell_type": "markdown",
      "source": [
        "# 1 Python und sein Erfinder <a class=\"anchor\" id=\"geschichte_python\"></a>\n",
        "Die Programmiersprache **Python** wurde 1990 von **Guido van Rossum** entwickelt. Im Januar 1994 erschien die erste Vollversion unter der Bezeichnung Python 1.0. Python wurde mit dem Ziel größter Einfachheit und Übersichtlichkeit entwickelt. Die aktuelle Version von Python ist 3.11. Mittlerweile zählt Python zu den beliebtesten Programmiersprachen und ist der Standard im Umfeld der Datenanalyse und künstlichen Intelligenz.\n"
      ],
      "metadata": {
        "id": "VeN0xSj8ZQP9"
      },
      "id": "VeN0xSj8ZQP9"
    },
    {
      "cell_type": "markdown",
      "source": [
        "# 2 Eigenschaften <a class=\"anchor\" id=\"eigenschaften\"></a>\n",
        "- ### Einfache Syntax\n",
        "- ### Open Source! [Free](https://www.python.org/downloads/)!\n",
        "- ### Viele, viele Bibliotheken für verschiedenste Einsatzzwecke\n",
        "- ### Praxiserprobt!"
      ],
      "metadata": {
        "id": "txD0vr2tZWX-"
      },
      "id": "txD0vr2tZWX-"
    },
    {
      "cell_type": "markdown",
      "source": [
        "**Hinweis**: Es gibt diverse (kostenfreie) Angebote, die es erlauben Jupyter Notebooks im Browser zu bearbeiten und auf gehosteter Infrastruktur auszuführen. Bekannt ist beispielweise das Angebot \"[google colab](https://colab.research.google.com)\" oder [binder](https://mybinder.org). Für den Fall, dass Sie solche Angebote nutzen, müssen Sie keine Installationen auf Ihrem Rechner vornehmen. Seien Sie sich aber bitte bewußt, dass die Berechnungen und zugehörige Daten auf fremder Infrastruktur laufen bzw. gespeichert werden."
      ],
      "metadata": {
        "id": "wkYZsoWcZaRJ"
      },
      "id": "wkYZsoWcZaRJ"
    },
    {
      "cell_type": "markdown",
      "source": [
        "# 3 Kurzeinführung Colab Notebooks <a class=\"anchor\" id=\"jupyter\"></a>"
      ],
      "metadata": {
        "id": "_dROtY8YZdpz"
      },
      "id": "_dROtY8YZdpz"
    },
    {
      "cell_type": "markdown",
      "metadata": {
        "id": "633e88a9-e11f-434f-a291-10802558578a"
      },
      "source": [
        "Wir nutzen [Colab Notebooks](https://colab.research.google.com) als web-basierte Entwicklungsumgebung. Colab Notebooks erlauben es uns Code interaktiv auszuführen. Das aktuelle Dokument ist ein Colab Notebook. Es besteht im wesentlichen aus zwei Arten von Zellen: \"Code\" und \"Text\"!"
      ],
      "id": "633e88a9-e11f-434f-a291-10802558578a"
    },
    {
      "cell_type": "markdown",
      "metadata": {
        "id": "07507e6c-8ed8-4c78-9aec-160d2e1ffc74"
      },
      "source": [
        "Die nachfolgende Zelle ist eine **Codezelle**:"
      ],
      "id": "07507e6c-8ed8-4c78-9aec-160d2e1ffc74"
    },
    {
      "cell_type": "code",
      "execution_count": null,
      "metadata": {
        "id": "5a688bb1-6ad5-4e0f-954f-64caf67461d8"
      },
      "outputs": [],
      "source": [
        "4+10+5"
      ],
      "id": "5a688bb1-6ad5-4e0f-954f-64caf67461d8"
    },
    {
      "cell_type": "markdown",
      "metadata": {
        "id": "1e698295-55a8-4425-88b8-cb3b066587c0"
      },
      "source": [
        "Sie setzen den Cursor in einer selektierten Zelle durch Drücken der Taste `enter`. Den Code in einer Zelle führen Sie mit dem Tastenkürzel `shift + enter` aus."
      ],
      "id": "1e698295-55a8-4425-88b8-cb3b066587c0"
    },
    {
      "cell_type": "code",
      "execution_count": null,
      "metadata": {
        "id": "06a78804-27cd-49df-86a5-02d592d2e991"
      },
      "outputs": [],
      "source": [
        "4+4+12+5"
      ],
      "id": "06a78804-27cd-49df-86a5-02d592d2e991"
    },
    {
      "cell_type": "markdown",
      "metadata": {
        "id": "8b0d590a-fcfd-46da-934d-375b093de2ac"
      },
      "source": [
        "Mit `esc` verlassen Sie die Zelle. Mit `a` fügen Sie eine neue Zelle oberhalb der aktuellen Zelle ein. Mit `b` fügen Sie eine Zelle unterhalb der aktuellen Zelle ein. Wichtig ist, dass Sie dabei nicht den Cursor in der Zelle gesetzt haben.  Es gibt diverse weitere [Funktionen](https://towardsdatascience.com/10-tips-for-a-better-google-colab-experience-33f8fe721b82), die Ihnen die Arbeit erleichtern."
      ],
      "id": "8b0d590a-fcfd-46da-934d-375b093de2ac"
    },
    {
      "cell_type": "markdown",
      "metadata": {
        "id": "288bd9d1-77b7-4470-874c-9f2d2667a212"
      },
      "source": [
        "### Aufgabe: Colab Notebook <a class=\"anchor\" id=\"notebook\"></a>\n",
        "Fügen Sie zwei neue Zellen ein, in denen Sie beliebige Rechnungen durchführen und löschen Sie anschließend eine der beiden Zellen."
      ],
      "id": "288bd9d1-77b7-4470-874c-9f2d2667a212"
    },
    {
      "cell_type": "code",
      "execution_count": null,
      "metadata": {
        "id": "3b14f3a1-3acd-4a74-8b7c-aeb30cbe7d13"
      },
      "outputs": [],
      "source": [
        ""
      ],
      "id": "3b14f3a1-3acd-4a74-8b7c-aeb30cbe7d13"
    },
    {
      "cell_type": "markdown",
      "metadata": {
        "id": "6a8dc200-7794-44f5-8bdc-79182563661b"
      },
      "source": [
        "# 4 Einfache Rechnungen"
      ],
      "id": "6a8dc200-7794-44f5-8bdc-79182563661b"
    },
    {
      "cell_type": "code",
      "execution_count": null,
      "metadata": {
        "id": "b31d1adf-bbb8-4d62-ab8e-ef6f6f27f6da"
      },
      "outputs": [],
      "source": [
        "4+5"
      ],
      "id": "b31d1adf-bbb8-4d62-ab8e-ef6f6f27f6da"
    },
    {
      "cell_type": "markdown",
      "metadata": {
        "id": "f2489162-fb16-421b-995f-2b9c9cda2e57"
      },
      "source": [
        "Eine Code-Zelle mit Kommentar (`#`)"
      ],
      "id": "f2489162-fb16-421b-995f-2b9c9cda2e57"
    },
    {
      "cell_type": "code",
      "execution_count": null,
      "metadata": {
        "id": "e7821ff1-2d0c-430d-b771-6ce6137e5a47"
      },
      "outputs": [],
      "source": [
        "# Das ist ein Kommentar\n",
        "4+5"
      ],
      "id": "e7821ff1-2d0c-430d-b771-6ce6137e5a47"
    },
    {
      "cell_type": "markdown",
      "metadata": {
        "id": "af2210c5-9f71-4f0f-be35-2f7a1f4ef78c"
      },
      "source": [
        "Addition, Subtraktion, Division und Multiplikation"
      ],
      "id": "af2210c5-9f71-4f0f-be35-2f7a1f4ef78c"
    },
    {
      "cell_type": "code",
      "execution_count": null,
      "metadata": {
        "id": "c0029398-0e39-4ace-ace6-53f65849bd66"
      },
      "outputs": [],
      "source": [
        "(4+3-1)*2/0.5"
      ],
      "id": "c0029398-0e39-4ace-ace6-53f65849bd66"
    },
    {
      "cell_type": "markdown",
      "metadata": {
        "id": "cb8ea84b-4d12-45c1-9352-c7ed91202a50"
      },
      "source": [
        "Potenzen"
      ],
      "id": "cb8ea84b-4d12-45c1-9352-c7ed91202a50"
    },
    {
      "cell_type": "code",
      "execution_count": null,
      "metadata": {
        "id": "456ab0da-dfee-4e76-a602-10e59f5356ae"
      },
      "outputs": [],
      "source": [
        "2**4"
      ],
      "id": "456ab0da-dfee-4e76-a602-10e59f5356ae"
    },
    {
      "cell_type": "markdown",
      "metadata": {
        "id": "e53f7985-b889-4590-b115-521b1b48a4a3"
      },
      "source": [
        "### Aufgabe: Wertpapier, Berechnung Auszahlungsbetrag <a class=\"anchor\" id=\"frachtpreis\"></a>\n",
        "Sie wollen ihr Erspartes in einem festverzinslichen Wertpapier anlegen. Ihnen stehen 1000€ zur Verfügung. Der jährliche Zinnsatz beträgt 3%. Sie möchten das Geld über 5 Jahre anlegen.\n",
        "\n",
        "Berechnen Sie den Auszahlungsbetrag, den Sie zum Ende der Laufzeit der Anlage erhalten!"
      ],
      "id": "e53f7985-b889-4590-b115-521b1b48a4a3"
    },
    {
      "cell_type": "code",
      "execution_count": null,
      "metadata": {
        "id": "5c4a1b86-0679-4d72-b86d-d4b00ee2e31b"
      },
      "outputs": [],
      "source": [
        ""
      ],
      "id": "5c4a1b86-0679-4d72-b86d-d4b00ee2e31b"
    },
    {
      "cell_type": "markdown",
      "metadata": {
        "id": "d80d1087-598a-40b0-99d6-5a994a500174"
      },
      "source": [
        "# 5 Variablen <a class=\"anchor\" id=\"variablen\"></a>\n",
        "Variablen sind Behälter (Container) zum Aufbewahren von Werten. Es ist wichtig die **Groß- und Kleinschreibung** zu beachten. Die Werte werden über die Eingabe des Variablennamens abgerufen."
      ],
      "id": "d80d1087-598a-40b0-99d6-5a994a500174"
    },
    {
      "cell_type": "markdown",
      "source": [
        "## 5.1 Beispiel"
      ],
      "metadata": {
        "id": "Ep8i2XKva6cw"
      },
      "id": "Ep8i2XKva6cw"
    },
    {
      "cell_type": "markdown",
      "metadata": {
        "id": "1866bf42-2689-4007-9f61-bad45e48a150"
      },
      "source": [
        "**Beispiel BMI:**"
      ],
      "id": "1866bf42-2689-4007-9f61-bad45e48a150"
    },
    {
      "cell_type": "code",
      "execution_count": null,
      "metadata": {
        "id": "28f576ad-9265-4ff7-80ba-7102e685a8e4"
      },
      "outputs": [],
      "source": [
        "gewicht = 80\n",
        "groesse = 1.85"
      ],
      "id": "28f576ad-9265-4ff7-80ba-7102e685a8e4"
    },
    {
      "cell_type": "markdown",
      "metadata": {
        "id": "682f0190-22f5-4679-949a-d04e1cee27fd"
      },
      "source": [
        "Formel für den BMI:\n",
        "\n",
        "$BMI = \\frac{Gewicht}{Größe^2}$"
      ],
      "id": "682f0190-22f5-4679-949a-d04e1cee27fd"
    },
    {
      "cell_type": "code",
      "execution_count": null,
      "metadata": {
        "id": "51e865d1-e5a2-448b-be7d-8eca3edf4799"
      },
      "outputs": [],
      "source": [
        "bmi = gewicht/groesse**2\n",
        "bmi"
      ],
      "id": "51e865d1-e5a2-448b-be7d-8eca3edf4799"
    },
    {
      "cell_type": "markdown",
      "metadata": {
        "id": "159f8480-78d7-4d33-8cc9-5fc0d9943bf4"
      },
      "source": [
        "## 5.2 Variablentypen\n",
        "Variabeln haben verschiedene Typen, die bei Eingabe automatisch definiert werden."
      ],
      "id": "159f8480-78d7-4d33-8cc9-5fc0d9943bf4"
    },
    {
      "cell_type": "markdown",
      "metadata": {
        "id": "72125b82-2bd3-400c-890a-0bbb1671d5b1"
      },
      "source": [
        "TYP: **INTEGER** (Ganzzahlige Zahl)"
      ],
      "id": "72125b82-2bd3-400c-890a-0bbb1671d5b1"
    },
    {
      "cell_type": "code",
      "execution_count": null,
      "metadata": {
        "id": "671bb810-4807-446b-8caa-6b700f798065"
      },
      "outputs": [],
      "source": [
        "a=100"
      ],
      "id": "671bb810-4807-446b-8caa-6b700f798065"
    },
    {
      "cell_type": "code",
      "execution_count": null,
      "metadata": {
        "id": "57452194-7a7c-42aa-8d55-eaf508c2ff4c"
      },
      "outputs": [],
      "source": [
        "type(a)"
      ],
      "id": "57452194-7a7c-42aa-8d55-eaf508c2ff4c"
    },
    {
      "cell_type": "markdown",
      "metadata": {
        "id": "726cb48d-9fde-4e7a-9f33-4ed0ac75356f"
      },
      "source": [
        "TYP: **FLOAT** (Gleitkommazahl)"
      ],
      "id": "726cb48d-9fde-4e7a-9f33-4ed0ac75356f"
    },
    {
      "cell_type": "code",
      "execution_count": null,
      "metadata": {
        "id": "a31d3384-bd1c-4c5f-bc50-961462581ab4"
      },
      "outputs": [],
      "source": [
        "a=100.5"
      ],
      "id": "a31d3384-bd1c-4c5f-bc50-961462581ab4"
    },
    {
      "cell_type": "code",
      "execution_count": null,
      "metadata": {
        "id": "e3500087-1b25-42f8-ac3e-6e2f89207866"
      },
      "outputs": [],
      "source": [
        "type(a)"
      ],
      "id": "e3500087-1b25-42f8-ac3e-6e2f89207866"
    },
    {
      "cell_type": "markdown",
      "metadata": {
        "id": "07a50e84-1a5b-4a39-ad34-60fe24851c63"
      },
      "source": [
        "TYP: **STRING** (Text)"
      ],
      "id": "07a50e84-1a5b-4a39-ad34-60fe24851c63"
    },
    {
      "cell_type": "code",
      "execution_count": null,
      "metadata": {
        "id": "3f1f9352-de12-4757-b1b3-f9a3a2c44b2f"
      },
      "outputs": [],
      "source": [
        "a='Hallo'"
      ],
      "id": "3f1f9352-de12-4757-b1b3-f9a3a2c44b2f"
    },
    {
      "cell_type": "code",
      "execution_count": null,
      "metadata": {
        "id": "fa1c7f7b-45dc-4238-964c-fc5f22cbfc28"
      },
      "outputs": [],
      "source": [
        "type(a)"
      ],
      "id": "fa1c7f7b-45dc-4238-964c-fc5f22cbfc28"
    },
    {
      "cell_type": "markdown",
      "metadata": {
        "id": "1d09a014-7669-4d99-a2f7-3bb57aa601de"
      },
      "source": [
        "TYP: **BOOL** (\"wahr\" oder \"falsch\")"
      ],
      "id": "1d09a014-7669-4d99-a2f7-3bb57aa601de"
    },
    {
      "cell_type": "code",
      "execution_count": null,
      "metadata": {
        "id": "b07d812a-a5c6-41ad-b59b-dcaec253c490"
      },
      "outputs": [],
      "source": [
        "a = True"
      ],
      "id": "b07d812a-a5c6-41ad-b59b-dcaec253c490"
    },
    {
      "cell_type": "code",
      "execution_count": null,
      "metadata": {
        "id": "76557a58-9ab8-435e-a05e-e4fa46c52d28"
      },
      "outputs": [],
      "source": [
        "type(a)"
      ],
      "id": "76557a58-9ab8-435e-a05e-e4fa46c52d28"
    },
    {
      "cell_type": "markdown",
      "metadata": {
        "id": "532c8cd4-b91c-4b36-abc7-66e5ac6ee606"
      },
      "source": [
        "**Jede nach Variablentyp verändert sich das Verhalten!**"
      ],
      "id": "532c8cd4-b91c-4b36-abc7-66e5ac6ee606"
    },
    {
      "cell_type": "code",
      "execution_count": null,
      "metadata": {
        "id": "ba8b90a6-5b18-400f-afab-44703f828f86"
      },
      "outputs": [],
      "source": [
        "a, b, c = 1, 2, 3"
      ],
      "id": "ba8b90a6-5b18-400f-afab-44703f828f86"
    },
    {
      "cell_type": "code",
      "execution_count": null,
      "metadata": {
        "id": "731968c9-b6ff-427c-a7b3-1d45259f9ee4"
      },
      "outputs": [],
      "source": [
        "a + b"
      ],
      "id": "731968c9-b6ff-427c-a7b3-1d45259f9ee4"
    },
    {
      "cell_type": "code",
      "execution_count": null,
      "metadata": {
        "id": "3297b3f8-a2e7-4966-ad9d-807a20329e48"
      },
      "outputs": [],
      "source": [
        "a, b, c = 'Max ', 'Markus ', 'Mustermann'"
      ],
      "id": "3297b3f8-a2e7-4966-ad9d-807a20329e48"
    },
    {
      "cell_type": "code",
      "execution_count": null,
      "metadata": {
        "id": "15882b5a-4c6c-4e6e-b082-1071b3a7006c"
      },
      "outputs": [],
      "source": [
        "a + b + c"
      ],
      "id": "15882b5a-4c6c-4e6e-b082-1071b3a7006c"
    },
    {
      "cell_type": "markdown",
      "metadata": {
        "id": "86a35881-fd66-4cce-be25-74e1b5ecad0f"
      },
      "source": [
        "## Aufgabe: Wertpapier, Variablen <a class=\"anchor\" id=\"wertpapier_variablen\"></a>\n",
        "Sie wollen ihr Erspartes in einem festverzinslichen Wertpapier anlegen. Ihnen stehen 1000€ zur Verfügung. Der jährliche Zinnsatz beträgt 3%. Sie möchten das Geld über 5 Jahre anlegen.\n",
        "\n",
        "Definieren Sie Variablen für \n",
        "- das Ersparte, welches Sie in einem festverzinslichen Wertpapier anlegen, \n",
        "- den jährlichen Zinsatz, \n",
        "- den Anlagezeitraum und \n",
        "- den Auszahlungsbetrag nach Ablauf des Anlagezeitraums.\n",
        "\n",
        "Wie berechnen Sie den Auszahlungsbetrag nach Ablauf des Anlagezeitraums mithilfe der definierten Variablen? Was ist der Variablentyp für jede der definierten Variablen?"
      ],
      "id": "86a35881-fd66-4cce-be25-74e1b5ecad0f"
    },
    {
      "cell_type": "code",
      "execution_count": null,
      "metadata": {
        "id": "040f6ac6-2e58-4b32-9d04-b6b5f44ec43b"
      },
      "outputs": [],
      "source": [
        ""
      ],
      "id": "040f6ac6-2e58-4b32-9d04-b6b5f44ec43b"
    },
    {
      "cell_type": "markdown",
      "metadata": {
        "id": "84de82bf-8d9c-452c-91ea-4a7ce202c04c"
      },
      "source": [
        "# 6 Packages <a class=\"anchor\" id=\"package\"></a>"
      ],
      "id": "84de82bf-8d9c-452c-91ea-4a7ce202c04c"
    },
    {
      "cell_type": "markdown",
      "source": [
        "## 6.1 Einführung\n",
        "Erst mit den zur Verfügung stehenden **Packages**/ **Paketen**/ **Bibliotheken** wird eine Programmiersprache für die Lösung diverser Probleme interessant. Packages enthalten wiederverwertbaren Code, der Ihnen bei der Lösung einer Aufgabe hilft.\n",
        "\n",
        "Zum Beispiel müssen Sie zum Runden einer Zahl nicht selbst den folgenden Code schreiben, sonder nutzen einfach die Funktion `round()`:"
      ],
      "metadata": {
        "id": "clI7sxEmd5u2"
      },
      "id": "clI7sxEmd5u2"
    },
    {
      "cell_type": "code",
      "source": [
        "zahl = 1.25\n",
        "round(zahl)"
      ],
      "metadata": {
        "id": "5_jdwrVYcQe0"
      },
      "id": "5_jdwrVYcQe0",
      "execution_count": null,
      "outputs": []
    },
    {
      "cell_type": "markdown",
      "source": [
        "Bei der Funktion `round()` handelt es sich um eine **Built-in Funktion**, die Sie ohne weitere Import- oder Installationsanweisungen direkt nutzen können. Die Built-in Funktionen sind nur sehr eingeschränkt. Üblicherweise müssen Sie Packages aus dem Internet laden und installieren. Wir werden dies an der Bibliothek `sklearn` verdeutlichen, die den Standard im Bereich Machinelles Lernen darstellt."
      ],
      "metadata": {
        "id": "9-yS5GAAccbE"
      },
      "id": "9-yS5GAAccbE"
    },
    {
      "cell_type": "markdown",
      "metadata": {
        "id": "9fc1a5c9-74c4-4352-a5a0-c235d05915a1"
      },
      "source": [
        "## 6.2 Installation und Import\n",
        "Sie benötigen zu allererst ein Installationsprogramm. Geläufig ist beispielsweise `pip`. In der vorliegenden Arbeitsumgebung ist `pip` bereits installiert. Für den Fall, dass Sie das Programm zunächst installieren müssen, hilft Ihnen die Installationsanleitung unter folgendem [Link](https://pip.pypa.io/en/stable/installation/#). "
      ],
      "id": "9fc1a5c9-74c4-4352-a5a0-c235d05915a1"
    },
    {
      "cell_type": "markdown",
      "metadata": {
        "id": "8bca6709-6959-46cd-a603-fb396d5a9668"
      },
      "source": [
        "Die Installation eines neuen Packages in einem Jupyter Notebook geht wie folgt (Bsp. Installation der Bibliothek `numpy`):\n",
        "* `!` für den Zugriff auf das Terminal\n",
        "* `pip3` zur Verwendung des Installationsprogramms `pip` in Verbindung mit der Python Version `3`\n",
        "* `-q` ist eine Option, um den Import im Hintergrund zu machen (\"quite\")\n",
        "* `install <package name>` Installation des gewünschten Packages"
      ],
      "id": "8bca6709-6959-46cd-a603-fb396d5a9668"
    },
    {
      "cell_type": "code",
      "source": [
        "! pip3 install -q sklearn"
      ],
      "metadata": {
        "id": "aFCtNHc14NpB"
      },
      "execution_count": null,
      "outputs": [],
      "id": "aFCtNHc14NpB"
    },
    {
      "cell_type": "code",
      "source": [
        "import sklearn"
      ],
      "metadata": {
        "id": "aSIV03ax4SKf"
      },
      "execution_count": null,
      "outputs": [],
      "id": "aSIV03ax4SKf"
    },
    {
      "cell_type": "markdown",
      "source": [
        "Sie können nun auf die diversen Funktionalitäten des Packages `sklearn` zurückgreifen, z.B. ein lineares Regressionmodell laden. Dazu verweisen Sie zunächst namentlich auf das Package mit dem Schlüsselwort `from` und importieren mit dem Schlüsselwort `import` die gewünschte Funktionalität."
      ],
      "metadata": {
        "id": "eDZDIBBUeT5v"
      },
      "id": "eDZDIBBUeT5v"
    },
    {
      "cell_type": "code",
      "source": [
        "from sklearn.linear_model import LinearRegression"
      ],
      "metadata": {
        "id": "4l8mme-redqI"
      },
      "id": "4l8mme-redqI",
      "execution_count": null,
      "outputs": []
    },
    {
      "cell_type": "code",
      "source": [
        ""
      ],
      "metadata": {
        "id": "qfVYFbr9erqR"
      },
      "id": "qfVYFbr9erqR",
      "execution_count": null,
      "outputs": []
    },
    {
      "cell_type": "markdown",
      "source": [
        "# 7 Machine Learning, Regression, Beispiel Immobilienpreise"
      ],
      "metadata": {
        "id": "TlEeS6BHfKV9"
      },
      "id": "TlEeS6BHfKV9"
    },
    {
      "cell_type": "markdown",
      "source": [
        "## 7.1 Daten aus Goolge-Drive importieren"
      ],
      "metadata": {
        "id": "fosefoRciSNO"
      },
      "id": "fosefoRciSNO"
    },
    {
      "cell_type": "code",
      "source": [
        "import pandas as pd"
      ],
      "metadata": {
        "id": "LGrl_jqcfXzd"
      },
      "id": "LGrl_jqcfXzd",
      "execution_count": null,
      "outputs": []
    },
    {
      "cell_type": "code",
      "source": [
        "# Google-Drive einbinden\n",
        "from google.colab import drive\n",
        "drive.mount('/content/drive')"
      ],
      "metadata": {
        "id": "I-5QslQG1kr3"
      },
      "id": "I-5QslQG1kr3",
      "execution_count": null,
      "outputs": []
    },
    {
      "cell_type": "code",
      "source": [
        "# Daten laden\n",
        "data = pd.read_csv(\"/content/drive/MyDrive/KI_Marketing/house_price.txt\")\n",
        "data = data.astype({\n",
        "    \"Verkaufsmonat\": \"O\", \"Qualität_Baustoffe\": \"O\", \"Zustand_Immobilie\": \"O\",\n",
        "    \"Baujahr\": \"O\", \"Kamine\": \"O\", \"Zentrale_Klimaanlage\": \"O\",\n",
        "    }, errors='raise') "
      ],
      "metadata": {
        "id": "9GLKqz311sMC"
      },
      "id": "9GLKqz311sMC",
      "execution_count": null,
      "outputs": []
    },
    {
      "cell_type": "markdown",
      "source": [
        "## 7.2 Erster Überblick zum Datensatz"
      ],
      "metadata": {
        "id": "KkHlMAifQF9l"
      },
      "id": "KkHlMAifQF9l"
    },
    {
      "cell_type": "code",
      "source": [
        "# Kopfzeile der Daten\n",
        "data.head()"
      ],
      "metadata": {
        "id": "j6mUMYZ1hVXC"
      },
      "id": "j6mUMYZ1hVXC",
      "execution_count": null,
      "outputs": []
    },
    {
      "cell_type": "code",
      "source": [
        "# Größe des Datensatzes\n",
        "data.shape"
      ],
      "metadata": {
        "id": "qofiApAiQEuA"
      },
      "id": "qofiApAiQEuA",
      "execution_count": null,
      "outputs": []
    },
    {
      "cell_type": "markdown",
      "source": [
        "## 7.3 Vorgehensmodell zum Training eines ML-Modells\n",
        "Bitte vergleichen Sie dazu die Ausführungen in der Vorlesungsunterlage!"
      ],
      "metadata": {
        "id": "F6l0bN2Di_at"
      },
      "id": "F6l0bN2Di_at"
    },
    {
      "cell_type": "markdown",
      "source": [
        "### 7.3.1 Datensatz in Features und Target teilen\n",
        "Zunächst einmal müssen wir unterscheiden, was vorhergesagt werden soll (**Target**) und welche Merkmale dazu genutzt werden sollen (**Features**)."
      ],
      "metadata": {
        "id": "VsLg6cRfiw5c"
      },
      "id": "VsLg6cRfiw5c"
    },
    {
      "cell_type": "code",
      "source": [
        "# Features, d.h. womit lässt sich der Immobilienpreis vorhersagen!\n",
        "X = data.drop(columns=\"Verkaufspreis\")\n",
        "X.head()"
      ],
      "metadata": {
        "id": "jw9nsecciIA0"
      },
      "id": "jw9nsecciIA0",
      "execution_count": null,
      "outputs": []
    },
    {
      "cell_type": "code",
      "source": [
        "# Target, d.h. was soll prognostiziert werden!\n",
        "y = data[\"Verkaufspreis\"]\n",
        "y.head()"
      ],
      "metadata": {
        "id": "-R0p_tMFjN-f"
      },
      "id": "-R0p_tMFjN-f",
      "execution_count": null,
      "outputs": []
    },
    {
      "cell_type": "code",
      "source": [
        "X.shape, y.shape"
      ],
      "metadata": {
        "id": "NVJdxAwwjVCf"
      },
      "id": "NVJdxAwwjVCf",
      "execution_count": null,
      "outputs": []
    },
    {
      "cell_type": "markdown",
      "source": [
        "### 7.3.2 Datensatz in Trainings- und Testmenge aufteilen"
      ],
      "metadata": {
        "id": "ZdIT3Aqbjc3B"
      },
      "id": "ZdIT3Aqbjc3B"
    },
    {
      "cell_type": "markdown",
      "source": [
        "Bevor wir gleich zu der Aufteilung in Trainings- & Testdaten zum Training des ML-Verfahrens kommen, müssen die nicht-numerischen Daten passend aufbereitet werden. Das Vorgehen ist dabei immer gleich. Zur Illustration nutzen wir die  die ersten 5 Eintragungen in der Spalte `Verkaufsmonat`."
      ],
      "metadata": {
        "id": "ik3zan-J1vtt"
      },
      "id": "ik3zan-J1vtt"
    },
    {
      "cell_type": "code",
      "source": [
        "example = data[\"Verkaufsmonat\"].head()\n",
        "example"
      ],
      "metadata": {
        "id": "fclb8_jk06iF"
      },
      "id": "fclb8_jk06iF",
      "execution_count": null,
      "outputs": []
    },
    {
      "cell_type": "markdown",
      "source": [
        "Wie Ihnen bekannt, enthält die Spalte die jeweilige Heimmannschaft eines Spiels. Wenn wir mit dem Package `sklearn` und den darin verfügbaren ML-Algorithmen arbeiten, müssen wir die Datenstrutkur umwandeln. Dazu nutzen wir die Funktion `get_dummies` wie in der unteren Codezeile dargestellt."
      ],
      "metadata": {
        "id": "Hhb2asCU2TTJ"
      },
      "id": "Hhb2asCU2TTJ"
    },
    {
      "cell_type": "code",
      "source": [
        "pd.get_dummies(example)"
      ],
      "metadata": {
        "id": "fzFH4-tN1YkF"
      },
      "id": "fzFH4-tN1YkF",
      "execution_count": null,
      "outputs": []
    },
    {
      "cell_type": "markdown",
      "source": [
        "Wir können die Funktion `get_dummies` auf den gesamten Datensatz anwenden und Pandas sucht sich selbst die umzuwandelnden Spalten.\n",
        "\n"
      ],
      "metadata": {
        "id": "FfpwR9Zd22G0"
      },
      "id": "FfpwR9Zd22G0"
    },
    {
      "cell_type": "code",
      "source": [
        "X = pd.get_dummies(X)\n",
        "X.head()"
      ],
      "metadata": {
        "id": "faK9AhsNldxt"
      },
      "id": "faK9AhsNldxt",
      "execution_count": null,
      "outputs": []
    },
    {
      "cell_type": "markdown",
      "source": [
        "Bei der Aufteilung der Daten in Test- und Trainingsmenge hilft die Funktion `train_test_split`."
      ],
      "metadata": {
        "id": "iXcdkwur3HZI"
      },
      "id": "iXcdkwur3HZI"
    },
    {
      "cell_type": "code",
      "source": [
        "from sklearn.model_selection import train_test_split"
      ],
      "metadata": {
        "id": "khyiUcYRjdYA"
      },
      "id": "khyiUcYRjdYA",
      "execution_count": null,
      "outputs": []
    },
    {
      "cell_type": "code",
      "source": [
        "# Training Algorithmus: X_train (Features), y_train (Target)\n",
        "# Test des Algorithmus (Bewertung): X_test, y_test\n",
        "#     1) Algorithmus bekommt Daten (X_test), die er noch nicht kennt & macht Prognose\n",
        "#     2) Vergleich Prognose mit tatsächlichen Werte (y_test) --> Bewertung\n",
        "\n",
        "X_train, X_test, y_train, y_test = train_test_split(X, y, test_size=0.2, random_state=3)"
      ],
      "metadata": {
        "id": "wRR4swbcjkRI"
      },
      "id": "wRR4swbcjkRI",
      "execution_count": null,
      "outputs": []
    },
    {
      "cell_type": "markdown",
      "source": [
        "**Trainingsdaten:** Das jeweilige ML-Verfahren kennt `y_train` (Target, d.h. Immobilienpreis) und `X_train` (Features, d.h. die zugehörigen Merkmale der Immobilie) und versucht einen Zusammenhang zwischen diesen zu lernen!"
      ],
      "metadata": {
        "id": "P7I97YGg3cnt"
      },
      "id": "P7I97YGg3cnt"
    },
    {
      "cell_type": "code",
      "source": [
        "y_train.head()"
      ],
      "metadata": {
        "id": "Wz3QX5_R4tiZ"
      },
      "id": "Wz3QX5_R4tiZ",
      "execution_count": null,
      "outputs": []
    },
    {
      "cell_type": "code",
      "source": [
        "X_train.head()"
      ],
      "metadata": {
        "id": "YklfaWPmjm5X"
      },
      "id": "YklfaWPmjm5X",
      "execution_count": null,
      "outputs": []
    },
    {
      "cell_type": "markdown",
      "source": [
        "### 7.3.3 Modell auswählen\n",
        "\n",
        "Für Regressions- und Klassifikationsprobleme gibt es eine Unmenge an ML-Verfahren. Eine Übersicht finden Sie [hier](https://scikit-learn.org/stable/). Wir werden das Verfahren `Random Forest` verwenden. Es gehört zu den besten und robustestens Verfahren im Bereich Machine Learning und wird aus diesem Grund häufig in der Praxis eingesetzt."
      ],
      "metadata": {
        "id": "qKXsT51djvLY"
      },
      "id": "qKXsT51djvLY"
    },
    {
      "cell_type": "code",
      "source": [
        "from sklearn.ensemble import RandomForestRegressor"
      ],
      "metadata": {
        "id": "x_31iuj8jvyc"
      },
      "id": "x_31iuj8jvyc",
      "execution_count": null,
      "outputs": []
    },
    {
      "cell_type": "code",
      "source": [
        "model = RandomForestRegressor()"
      ],
      "metadata": {
        "id": "1GKdd-yxj73L"
      },
      "id": "1GKdd-yxj73L",
      "execution_count": null,
      "outputs": []
    },
    {
      "cell_type": "markdown",
      "source": [
        "### 7.3.4 Modell trainieren\n",
        "\n",
        "Das Random Forest Verfahren versucht nun einen Zusammenhang zwischen den Features und dem Target zu lernen und minimiert dabei ein Fehlermaß. In der Grundeinstellung wird die Summe der quadrierten Fehler minimiert, d.h. $∑(y_i - \\hat{y}_i)^2$ mit $y=$Preis Immobilie $i$ und $\\hat{y}=$Prognose Preis Immobilie $i$."
      ],
      "metadata": {
        "id": "fgPlh3stkFTt"
      },
      "id": "fgPlh3stkFTt"
    },
    {
      "cell_type": "code",
      "source": [
        "model.fit(X_train, y_train)"
      ],
      "metadata": {
        "id": "GjXcrqj0kBqg"
      },
      "id": "GjXcrqj0kBqg",
      "execution_count": null,
      "outputs": []
    },
    {
      "cell_type": "markdown",
      "source": [
        "### 7.3.5 Modell anwenden\n",
        "\n",
        "Zu diesem Zweck nutzen wir nun die **Testdaten**. Das ML-Verfahren erhält die Daten `X_test`, d.h. die Merkmale einer Immobilie und wendet die gelernten Zusammenhänge zur Prognose des Targets an!"
      ],
      "metadata": {
        "id": "7E0hE8ZGni3Z"
      },
      "id": "7E0hE8ZGni3Z"
    },
    {
      "cell_type": "code",
      "source": [
        "X_test.head()"
      ],
      "metadata": {
        "id": "yAtrJKMVnkT0"
      },
      "id": "yAtrJKMVnkT0",
      "execution_count": null,
      "outputs": []
    },
    {
      "cell_type": "code",
      "source": [
        "y_pred = model.predict(X_test)\n",
        "y_pred[:10]"
      ],
      "metadata": {
        "id": "B3ORn3munk4C"
      },
      "id": "B3ORn3munk4C",
      "execution_count": null,
      "outputs": []
    },
    {
      "cell_type": "markdown",
      "source": [
        "### 7.3.6 Modell evaluieren\n",
        "\n",
        "Nachdem nun Prognosewerte durch das angelernte Verfahren berechnet wurden, können wir diese mit den tatsächlichen Werten des Target, also den tatsächlichen Immobilienpreisen vergleichen (`y_test`). Daraus können wir dann die Güte eines Verfahrens ableiten!"
      ],
      "metadata": {
        "id": "NpGLXSFInywW"
      },
      "id": "NpGLXSFInywW"
    },
    {
      "cell_type": "code",
      "source": [
        "import sklearn.metrics\n",
        "import matplotlib.pyplot as plt"
      ],
      "metadata": {
        "id": "oDUAdVbAnp-n"
      },
      "id": "oDUAdVbAnp-n",
      "execution_count": null,
      "outputs": []
    },
    {
      "cell_type": "code",
      "source": [
        "# Genauigkeit des Modells auf der Testmenge, mittlerer absoluter Fehler \n",
        "sklearn.metrics.mean_absolute_error(y_test, y_pred)"
      ],
      "metadata": {
        "id": "8qwInLdwn1mF"
      },
      "id": "8qwInLdwn1mF",
      "execution_count": null,
      "outputs": []
    },
    {
      "cell_type": "code",
      "source": [
        "# Genauigkeit des Modells auf der Testmenge, mittlerer absoluter prozentualer Fehler \n",
        "sklearn.metrics.mean_absolute_percentage_error(y_test, y_pred)"
      ],
      "metadata": {
        "id": "oQRFu7kvlue7"
      },
      "id": "oQRFu7kvlue7",
      "execution_count": null,
      "outputs": []
    },
    {
      "cell_type": "code",
      "source": [
        "(y_test - y_pred).plot(\n",
        "    kind=\"hist\",\n",
        "    title= \"Histogramm Prognosefehler\",\n",
        "    figsize=(12,6),\n",
        "    color=\"c\",\n",
        "    edgecolor='k',\n",
        "    density=True,\n",
        "    alpha=0.8, \n",
        "    bins=30    \n",
        "    )\n",
        "plt.show()"
      ],
      "metadata": {
        "id": "ZdlgU01hoYfI"
      },
      "id": "ZdlgU01hoYfI",
      "execution_count": null,
      "outputs": []
    },
    {
      "cell_type": "markdown",
      "source": [
        "## Aufgabe: Machine Learning Modell mit Marketing und Sales Daten\n",
        "\n",
        "Die erhalten nun einen Datensatz, der die Verkaufszahlen Ihres Unternehmens in Euro darstellt und gleichzeitig die Ausgaben des Unternehmens für verschiedene Marketingkanäle.\n",
        "\n",
        "Bitte trainieren Sie ein ML-Verfahren (`RandomForestRegressor`) um die Verkaufszahlen Ihres Unternehmens in Abhängigkeit der Ausgaben für die Marketingkanäle zu prognostizieren!"
      ],
      "metadata": {
        "id": "c9J_T7VPMQna"
      },
      "id": "c9J_T7VPMQna"
    },
    {
      "cell_type": "code",
      "source": [
        "data = pd.read_csv(\"/content/drive/MyDrive/KI_Marketing/advertising_and_sales.txt\")"
      ],
      "metadata": {
        "id": "Rv500VACMP2_"
      },
      "id": "Rv500VACMP2_",
      "execution_count": null,
      "outputs": []
    },
    {
      "cell_type": "code",
      "source": [
        "data.head()"
      ],
      "metadata": {
        "id": "b2l0Ef4Cnaj_"
      },
      "id": "b2l0Ef4Cnaj_",
      "execution_count": null,
      "outputs": []
    },
    {
      "cell_type": "markdown",
      "source": [
        "**1) Daten in Features und Target aufteilen**"
      ],
      "metadata": {
        "id": "0GFF7htPBkLz"
      },
      "id": "0GFF7htPBkLz"
    },
    {
      "cell_type": "code",
      "source": [
        ""
      ],
      "metadata": {
        "id": "fB6VmneNBb9c"
      },
      "id": "fB6VmneNBb9c",
      "execution_count": null,
      "outputs": []
    },
    {
      "cell_type": "markdown",
      "source": [
        "**2) Datensatz in Trainings- und Testmenge aufteilen**"
      ],
      "metadata": {
        "id": "7zLsMVT1ByuH"
      },
      "id": "7zLsMVT1ByuH"
    },
    {
      "cell_type": "code",
      "source": [
        ""
      ],
      "metadata": {
        "id": "6fznY_asB4Gy"
      },
      "id": "6fznY_asB4Gy",
      "execution_count": null,
      "outputs": []
    },
    {
      "cell_type": "markdown",
      "source": [
        "**3) Modell auswählen**"
      ],
      "metadata": {
        "id": "JP9QUnxyB4zo"
      },
      "id": "JP9QUnxyB4zo"
    },
    {
      "cell_type": "code",
      "source": [
        ""
      ],
      "metadata": {
        "id": "535P2Qp1B8ZB"
      },
      "id": "535P2Qp1B8ZB",
      "execution_count": null,
      "outputs": []
    },
    {
      "cell_type": "markdown",
      "source": [
        "**4) Modell trainieren**"
      ],
      "metadata": {
        "id": "rw4NuM6fB9Ae"
      },
      "id": "rw4NuM6fB9Ae"
    },
    {
      "cell_type": "code",
      "source": [
        ""
      ],
      "metadata": {
        "id": "mKKmcutjB_R8"
      },
      "id": "mKKmcutjB_R8",
      "execution_count": null,
      "outputs": []
    },
    {
      "cell_type": "markdown",
      "source": [
        "**5) Modell anwenden**"
      ],
      "metadata": {
        "id": "Z2Rzxy0_B_qY"
      },
      "id": "Z2Rzxy0_B_qY"
    },
    {
      "cell_type": "code",
      "source": [
        ""
      ],
      "metadata": {
        "id": "rWQShWzzCBs2"
      },
      "id": "rWQShWzzCBs2",
      "execution_count": null,
      "outputs": []
    },
    {
      "cell_type": "markdown",
      "source": [
        "**6) Modell evaluieren**"
      ],
      "metadata": {
        "id": "1dKRr9cfCCO8"
      },
      "id": "1dKRr9cfCCO8"
    },
    {
      "cell_type": "code",
      "source": [
        ""
      ],
      "metadata": {
        "id": "DpG7Na7DCEdy"
      },
      "id": "DpG7Na7DCEdy",
      "execution_count": null,
      "outputs": []
    },
    {
      "cell_type": "markdown",
      "source": [
        "**Frage:** Welche weiteren Features könnten helfen, um die Prognose der Ankunftszeit zu verbessern?"
      ],
      "metadata": {
        "id": "Iag8V-iAD_qn"
      },
      "id": "Iag8V-iAD_qn"
    },
    {
      "cell_type": "code",
      "source": [
        ""
      ],
      "metadata": {
        "id": "JcgMaM85DUuv"
      },
      "id": "JcgMaM85DUuv",
      "execution_count": null,
      "outputs": []
    },
    {
      "cell_type": "markdown",
      "source": [
        "# 8 Machine Learning, Klassifikation, Beispiel Diabetes\n",
        "Im nachfolgenden Beispiel werden wir ein ML-Verfahren einsetzen, um anhand von Untersuchungsergebnissen vorherzusagen, ob ein Patient Diabetes hat. Es handelt sich dabei um eine Klassifikationsproblem (Diabetes/ keine Diabetes). Wir verwenden einen Datensatz mit folgenden Informationen:\n",
        "1. Anzahl Schwangerschaften\n",
        "1. Glukosekonzentration nach Glukosetoleranztest\n",
        "1. Blutdruck (mm Hg)\n",
        "1. Dicke der Trizepshautfalte (mm)\n",
        "1. Insulinwert (mu U/ml)\n",
        "1. Body mass index \n",
        "1. Diabetesvorbelastungsfunktion\n",
        "1. Alter (Jahre)\n",
        "1. Diabetes (0/1)\n",
        "\n",
        "Die relevanten Daten haben die folgende Form:"
      ],
      "metadata": {
        "id": "IcxdXVt-a4Ck"
      },
      "id": "IcxdXVt-a4Ck"
    },
    {
      "cell_type": "code",
      "source": [
        "data = pd.read_csv(\"/content/drive/MyDrive/KI_Marketing/diabetes.txt\")\n",
        "data.head()"
      ],
      "metadata": {
        "id": "U_Xap0iDa8Xg"
      },
      "id": "U_Xap0iDa8Xg",
      "execution_count": null,
      "outputs": []
    },
    {
      "cell_type": "markdown",
      "source": [
        "## 8.1 Datensatz in Features und Target teilen\n",
        "\n",
        "Wie bereits zuvor müssen wir unterscheiden, was vorhergesagt werden soll (**Target**) und welche Merkmale dazu genutzt werden sollen (**Features**)."
      ],
      "metadata": {
        "id": "HsigSaVPCMeT"
      },
      "id": "HsigSaVPCMeT"
    },
    {
      "cell_type": "code",
      "source": [
        "# Features, d.h. womit lässt sich Diabetes prognostizeren!\n",
        "X = data.drop(columns=\"diabetes\")\n",
        "X.head()"
      ],
      "metadata": {
        "id": "z-uyIdD-d-eB"
      },
      "id": "z-uyIdD-d-eB",
      "execution_count": null,
      "outputs": []
    },
    {
      "cell_type": "code",
      "source": [
        "# Target, d.h. was soll prognostiziert werden!\n",
        "y = data[\"diabetes\"]\n",
        "y.head()"
      ],
      "metadata": {
        "id": "vmpeKoYICZUE"
      },
      "id": "vmpeKoYICZUE",
      "execution_count": null,
      "outputs": []
    },
    {
      "cell_type": "markdown",
      "source": [
        "## 8.2 Datensatz in Trainings- und Testmenge aufteilen\n",
        "Erneut müssen wir die Daten aufteilen. Da wir ausschließlich mit numerischen Daten arbeiten, müssen wir keine Datenaufbereitung über `pd.get_dummies` vornehmen."
      ],
      "metadata": {
        "id": "l2eJRG5ICjbo"
      },
      "id": "l2eJRG5ICjbo"
    },
    {
      "cell_type": "code",
      "source": [
        "from sklearn.model_selection import train_test_split"
      ],
      "metadata": {
        "id": "DkUWgtB8DKCI"
      },
      "id": "DkUWgtB8DKCI",
      "execution_count": null,
      "outputs": []
    },
    {
      "cell_type": "code",
      "source": [
        "# X und y werden in Trainings- und Testmenge aufgeteilt, so dass die Testmenge 20% der vorhandenen Daten hat\n",
        "X_train, X_test, y_train, y_test = train_test_split(X, y, test_size=0.2, random_state=3)"
      ],
      "metadata": {
        "id": "QVKROgWUCeP_"
      },
      "id": "QVKROgWUCeP_",
      "execution_count": null,
      "outputs": []
    },
    {
      "cell_type": "code",
      "source": [
        "y_train.head()"
      ],
      "metadata": {
        "id": "ajWtX075CxNn"
      },
      "id": "ajWtX075CxNn",
      "execution_count": null,
      "outputs": []
    },
    {
      "cell_type": "code",
      "source": [
        "X_train.head()"
      ],
      "metadata": {
        "id": "SApJDY4jDZJW"
      },
      "id": "SApJDY4jDZJW",
      "execution_count": null,
      "outputs": []
    },
    {
      "cell_type": "markdown",
      "source": [
        "## 8.3 Modell auswählen\n",
        "\n",
        "Erneut verwenden wir das Verfahren `Random Forest`. Sie müssen allerdings darauf achten, dass Sie einen Random Forest zur Klassifikation importieren. Aus diesem Grund verwenden wir das Verfahren `RandomForestClassifier`. Für die Regressionaufgabe hatten wir das Verfahren `RandomForestRegressor` genutzt. Achten Sie auf diesen wichtigen Unterschied!"
      ],
      "metadata": {
        "id": "DZH4B74CDepm"
      },
      "id": "DZH4B74CDepm"
    },
    {
      "cell_type": "code",
      "source": [
        "from sklearn.ensemble import RandomForestClassifier"
      ],
      "metadata": {
        "id": "hRJ3fQsFDXL_"
      },
      "id": "hRJ3fQsFDXL_",
      "execution_count": null,
      "outputs": []
    },
    {
      "cell_type": "code",
      "source": [
        "model = RandomForestClassifier()"
      ],
      "metadata": {
        "id": "cKGnyxJRDqIY"
      },
      "id": "cKGnyxJRDqIY",
      "execution_count": null,
      "outputs": []
    },
    {
      "cell_type": "markdown",
      "source": [
        "## 8.4 Modell trainieren\n",
        "\n",
        "Das Random Forest Verfahren versucht nun einen Zusammenhang zwischen den Features und dem Target zu lernen und minimiert dabei ein Fehlermaß. Letzteres misst den Grad der Fehlklassifikation. Beispiel für Fehlklassifikation: Das Modell prognostiziert Diabetes für einen Patienten, in der Realität liegt die Erkrankung aber nicht vor."
      ],
      "metadata": {
        "id": "LatzmZt2Dxj6"
      },
      "id": "LatzmZt2Dxj6"
    },
    {
      "cell_type": "code",
      "source": [
        "model.fit(X_train, y_train)"
      ],
      "metadata": {
        "id": "ioXqSKqaDslO"
      },
      "id": "ioXqSKqaDslO",
      "execution_count": null,
      "outputs": []
    },
    {
      "cell_type": "markdown",
      "source": [
        "## 8.5 Modell anwenden\n",
        "\n",
        "Das ML-Verfahren erhält die Daten `X_test`, d.h. die Untersuchungsergebnisse mit den relevanten Merkmalen und wendet die gelernten Zusammenhänge zur Prognose des Targets an, d.h. dem Vorhandensein von Diabetes (0/1)!"
      ],
      "metadata": {
        "id": "SnHwdqNWESSV"
      },
      "id": "SnHwdqNWESSV"
    },
    {
      "cell_type": "code",
      "source": [
        "y_pred = model.predict(X_test)\n",
        "y_pred"
      ],
      "metadata": {
        "id": "Lw2VrYolEL1G"
      },
      "id": "Lw2VrYolEL1G",
      "execution_count": null,
      "outputs": []
    },
    {
      "cell_type": "markdown",
      "source": [
        "## 8.6 Modell evaluieren\n",
        "\n",
        "Die Modellbewertung erfolgt bei der Klassifikation regelmäßg nach dem Kriterium der \"Accuracy\" (andere kommen aber auch zum Einsatz). Die Accuracy setzt die Anzahl der korrekten Klassifikation in das Verhältnis zur Anzahl aller Beobachtungen. Dementsprechend stellt sie den Anteil der korrekten Klassifikationen dar."
      ],
      "metadata": {
        "id": "2LtmLpD4EkIp"
      },
      "id": "2LtmLpD4EkIp"
    },
    {
      "cell_type": "code",
      "source": [
        "sklearn.metrics.accuracy_score(y_test, y_pred) * 100"
      ],
      "metadata": {
        "id": "QFRaMmh7Ef47"
      },
      "id": "QFRaMmh7Ef47",
      "execution_count": null,
      "outputs": []
    },
    {
      "cell_type": "markdown",
      "source": [
        "Zur Veranschaulichung von Klassifikationsergebnissen hilft regelmäßig eine Konfusionsmatrix. Diese wird wie folgt erstellt:"
      ],
      "metadata": {
        "id": "G_zYj8rkOeuS"
      },
      "id": "G_zYj8rkOeuS"
    },
    {
      "cell_type": "code",
      "source": [
        "conf_matrix = sklearn.metrics.confusion_matrix(y_test, y_pred, labels=model.classes_)\n",
        "disp = sklearn.metrics.ConfusionMatrixDisplay(conf_matrix, display_labels=model.classes_)\n",
        "disp.plot()\n",
        "plt.show()"
      ],
      "metadata": {
        "id": "g_2GU6ppEvOP"
      },
      "id": "g_2GU6ppEvOP",
      "execution_count": null,
      "outputs": []
    },
    {
      "cell_type": "markdown",
      "source": [
        "## Abschlussaufgabe\n",
        "Wir bleiben beim Datensatz zur Diabetes. Entwickeln Sie ein Machine Learning Modell, welches den BMI einer untersuchten Person auf Basis der Untersuchungsergebnisse (inkl. Diabetesbefund) vorhersagt!"
      ],
      "metadata": {
        "id": "lqGYeZEjOrwp"
      },
      "id": "lqGYeZEjOrwp"
    },
    {
      "cell_type": "code",
      "source": [
        ""
      ],
      "metadata": {
        "id": "83cyBO79F0q1"
      },
      "id": "83cyBO79F0q1",
      "execution_count": null,
      "outputs": []
    }
  ],
  "metadata": {
    "kernelspec": {
      "display_name": "Python 3 (ipykernel)",
      "language": "python",
      "name": "python3"
    },
    "language_info": {
      "codemirror_mode": {
        "name": "ipython",
        "version": 3
      },
      "file_extension": ".py",
      "mimetype": "text/x-python",
      "name": "python",
      "nbconvert_exporter": "python",
      "pygments_lexer": "ipython3",
      "version": "3.8.5"
    },
    "colab": {
      "name": "Machine Learning.ipynb",
      "provenance": [],
      "collapsed_sections": [],
      "toc_visible": true,
      "include_colab_link": true
    }
  },
  "nbformat": 4,
  "nbformat_minor": 5
}